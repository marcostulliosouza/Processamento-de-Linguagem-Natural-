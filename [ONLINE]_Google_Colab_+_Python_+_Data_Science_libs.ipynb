{
  "nbformat": 4,
  "nbformat_minor": 0,
  "metadata": {
    "colab": {
      "provenance": [],
      "include_colab_link": true
    },
    "kernelspec": {
      "name": "python3",
      "display_name": "Python 3"
    }
  },
  "cells": [
    {
      "cell_type": "markdown",
      "metadata": {
        "id": "view-in-github",
        "colab_type": "text"
      },
      "source": [
        "<a href=\"https://colab.research.google.com/github/marcostulliosouza/Processamento-de-Linguagem-Natural-/blob/main/%5BONLINE%5D_Google_Colab_%2B_Python_%2B_Data_Science_libs.ipynb\" target=\"_parent\"><img src=\"https://colab.research.google.com/assets/colab-badge.svg\" alt=\"Open In Colab\"/></a>"
      ]
    },
    {
      "cell_type": "markdown",
      "metadata": {
        "id": "yX-7yPJ4UHDL"
      },
      "source": [
        "#Google Colab + Python + Data Science libs\n",
        "## Processamento de Linguagem Natural\n",
        "Nesta atividade você entrará em contato com o ambiente de desenvolvimento completo desta disciplina (e que serão utilizadas também no decorrer do curso), que envolve o Google Colab, a linguagem de programação Python e as bibliotecas de Data Science."
      ]
    },
    {
      "cell_type": "markdown",
      "metadata": {
        "id": "rpzFZgHMWZnU"
      },
      "source": [
        "## **Ambiente de desenvolvimento de Data Science/PLN**\n",
        "\n",
        "A comunidade do Python mantém disponível dezenas de ferramentas para auxílio ao desenvolvedor de PLN/Data Science, entre elas:\n",
        "*   **Numpy** - Biblioteca com várias funcionalidades numéricas/matemáticas (não incluído no material de hoje)\n",
        "*   **Pandas** - Biblioteca para manipulação de dados usando dataframes\n",
        "*   **Scikit-learn** - Biblioteca com funcionalidades de Machine Leaning, data mining e data analysis  (não incluído no material de hoje)\n",
        "*   **Matplotlib, Seaborn** - Bibliotecas para produção de gráficos e outras visualizações\n",
        "*   **Jupyter Notebook/Google Colab** - Interface/ambiente de notebook para desenvolvimento e documentação de projetos"
      ]
    },
    {
      "cell_type": "markdown",
      "metadata": {
        "id": "nISFz7dINi56"
      },
      "source": [
        "## Configurando o ambiente - Checando dependências"
      ]
    },
    {
      "cell_type": "code",
      "metadata": {
        "id": "8YJyaMWLNjRR"
      },
      "source": [
        "# Importa bibliotecas necessárias - Geralmente é a primeira célula de código do seu notebook\n",
        "import pandas as pd\n",
        "from matplotlib import pyplot as plt\n",
        "import matplotlib as mplot\n",
        "import seaborn as sns\n",
        "%matplotlib inline"
      ],
      "execution_count": null,
      "outputs": []
    },
    {
      "cell_type": "markdown",
      "metadata": {
        "id": "9mco-m1lOHoN"
      },
      "source": [
        "## Google Colab/Jupyter - Atalhos e conveniências"
      ]
    },
    {
      "cell_type": "code",
      "metadata": {
        "id": "fuf8WfNkOy2_"
      },
      "source": [
        "# Teclas de atalho\n",
        "\n",
        "# EXECUTAR CÉLULA: shift+enter\n",
        "# INSERE CELULA ACIMA: Ctrl+m+a\n",
        "# INSERE CELULA ABAIXO: Ctrl+m+b\n",
        "# COMENTAR CÓDIGO: Ctrl+/"
      ],
      "execution_count": null,
      "outputs": []
    },
    {
      "cell_type": "code",
      "metadata": {
        "id": "E4Vm-NbjPeev"
      },
      "source": [
        "# Obtém ajuda sobre função\n",
        "pd.read_csv??"
      ],
      "execution_count": null,
      "outputs": []
    },
    {
      "cell_type": "code",
      "metadata": {
        "id": "Cb5UDGL3PiCc"
      },
      "source": [
        "# Exemplo de mensagem de erro\n",
        "print(nlp)"
      ],
      "execution_count": null,
      "outputs": []
    },
    {
      "cell_type": "markdown",
      "metadata": {
        "id": "rthj_Gp9J4qL"
      },
      "source": [
        "### Acessar arquivos no Google Colab\n",
        "A seguir algumas maneiras diferentes de importar arquivos para dentro do ambiente Google Colab. Escolha uma delas para importar os arquivos disponíveis [neste repositório](https://github.com/kunkaweb/articles-data)."
      ]
    },
    {
      "cell_type": "markdown",
      "metadata": {
        "id": "e16oZah9KC66"
      },
      "source": [
        "#### 1) via Google Drive"
      ]
    },
    {
      "cell_type": "code",
      "metadata": {
        "id": "C6NRUXmGKKpr"
      },
      "source": [
        "# Acesso a URL que aparecer, e copie o código de autorização abaixo - assim o Google Colab terá permissão para ler arquivos do seu Google Drive\n",
        "from google.colab import drive\n",
        "drive.mount('/content/drive', force_remount=True)"
      ],
      "execution_count": null,
      "outputs": []
    },
    {
      "cell_type": "code",
      "metadata": {
        "id": "xeu1xj46Lw_e"
      },
      "source": [
        "# Mostra listagem de arquivos na pasta raiz do Google Drive\n",
        "!ls \"/content/drive/My Drive\""
      ],
      "execution_count": null,
      "outputs": []
    },
    {
      "cell_type": "code",
      "metadata": {
        "id": "MvJzVuyCKpZh"
      },
      "source": [
        "# Uma vez executada a etapa acima, sempre que você referências um arquivo do você deve colocar :\n",
        "#path = \"/content/drive/My Drive/CAMINHO/ATE/O/ARQUIVO/DESEJADO/\"\n",
        "\n",
        "# Exemplo - Ler o arquivo teste.txt que se encontra na pasta raiz de meu Google Drive\n",
        "f = open(\"/content/drive/My Drive/teste.txt\", \"r\")\n",
        "print(f.read())"
      ],
      "execution_count": null,
      "outputs": []
    },
    {
      "cell_type": "markdown",
      "metadata": {
        "id": "3XPRL3wxMlA2"
      },
      "source": [
        "#### 2) Via botão de UPLOAD\n",
        "Neste caso basta ir até o painel esquerdo do Google Colab, acessar a aba FILES e apertar o botão UPLOAD. Nesse caso você selecionará o arquivo desejado, que será enviado para uso na instância atual do Google Colab.\n",
        "\n",
        "**IMPORTANTE**: O arquivo será automaticamente apagado a cada reinicio de sua instância do Google Colab."
      ]
    },
    {
      "cell_type": "markdown",
      "metadata": {
        "id": "HbFYIQlhNBWM"
      },
      "source": [
        "#### 3) Via github"
      ]
    },
    {
      "cell_type": "code",
      "metadata": {
        "id": "14b8PDmjNmtF"
      },
      "source": [
        "import os\n",
        "# Verifica se o arquivo já existe na instância atual.  Se não, faz download do github\n",
        "if not os.path.exists('articles-data/artigo_1.txt'):\n",
        "    print(\"Diretório ainda não existe!\")\n",
        "    print(\"Obtendo dados do github...\")\n",
        "\n",
        "    !git clone https://github.com/kunkaweb/articles-data.git\n",
        "\n",
        "print('O diretório baixado contém:\\n',os.listdir('articles-data'))"
      ],
      "execution_count": null,
      "outputs": []
    },
    {
      "cell_type": "markdown",
      "metadata": {
        "id": "V8VB9adiRYG5"
      },
      "source": [
        "> **IMPORTANTE:** Você deve ficar atento com as mensagens de erro do Python, pois constantemente você precisará compreendê-las para corrigir o problema\n",
        "\n",
        "\n",
        "![Python - Fluxograma de erros](https://docs.google.com/uc?export=download&id=1OsOcyHMzKIEWs1rLPdShTTn_Td-mQHjo)"
      ]
    },
    {
      "cell_type": "markdown",
      "metadata": {
        "id": "q1Xkxh5cSYDF"
      },
      "source": [
        "## Pandas Dataframes\n",
        "Pandas é um dos pacotes mais importantes de Data Science no Python. A biblioteca permite que você manipule dados de maneira semalhante a uma planilha do Excel, com dados dispostos em linhas e colunas.\n",
        "\n",
        "**Propósito**\n",
        "*   Limpar\n",
        "*   Transformar\n",
        "*   Analisar\n",
        "\n",
        "**Exemplos de uso**:\n",
        "*   *Calcular estatísticas e responder perguntas sobre os dados* -\n",
        "Qual a média, mediana, valor máximo e mínimo de cada coluna?\n",
        "Coluna A se correlaciona com a coluna B?\n",
        "Como é a distribuição dos dados na coluna C?\n",
        "*   *Limpar os dados* - remover valores ausentes, filtrar linhas ou colunas utilizando critérios específicos\n",
        "*   *Visualizar os dados com a ajuda do Matplotlib* - Desenhar gráficos de barras, linhas, histogramas, etc.\n",
        "*   *Exportar dados limpos e tranformados para arquivos (e.g., csv) ou bancos de dados*.\n"
      ]
    },
    {
      "cell_type": "markdown",
      "metadata": {
        "id": "MqKZx1FAGqK4"
      },
      "source": [
        "![Pandas - Componentes principais](https://docs.google.com/uc?export=download&id=1tdCaB202YRxSVir-5QNAtra0CpY3esWK)\n",
        "\n",
        "`DataFrames` e `Series` são muito semelhantes, pois muitas operações podem ser feitas com uma ou com a outra (e.g., preencher valores nulos, calcular a média)\n"
      ]
    },
    {
      "cell_type": "markdown",
      "metadata": {
        "id": "5vXjUn8qKRsU"
      },
      "source": [
        "### Pandas - **Exemplo prático 1**\n",
        "Uma quitanda de frutas vende maçãs e laranjas. Precisamos uma coluna para cada fruta e uma linha para cada compra do cliente.\n",
        "\n"
      ]
    },
    {
      "cell_type": "markdown",
      "metadata": {
        "id": "8dLRbLl9MHUY"
      },
      "source": [
        "#### **Possibilidade 1** - Criar `DataFrame` a partir de `Series`"
      ]
    },
    {
      "cell_type": "code",
      "metadata": {
        "id": "0mnL23Y_KuTB"
      },
      "source": [
        "# Importa a biblioteca pandas - Deve ser chamado uma única vez durante todo notebook/script\n",
        "import pandas as pd\n",
        "\n",
        "# Cria duas séries\n",
        "s1 = pd.Series([3, 2, 0, 1], name='macas', dtype=int)\n",
        "s2 = pd.Series([0, 3, 7, 2], name='laranjas', dtype=int)\n",
        "\n",
        "# Cria um DataFrame a partir das Séries\n",
        "# axis=1 interpreta cada série como uma coluna.  axis=2 cada série seria uma linha.\n",
        "comprasDf = pd.concat([s1,s2],axis=1)\n",
        "\n",
        "# Mostra o DataFrame\n",
        "display(comprasDf)"
      ],
      "execution_count": null,
      "outputs": []
    },
    {
      "cell_type": "markdown",
      "metadata": {
        "id": "hLpkkdB9MdNC"
      },
      "source": [
        "#### **Possibilidade 2** - Criar `DataFrame` a partir de um `dict`"
      ]
    },
    {
      "cell_type": "code",
      "metadata": {
        "id": "O9pqefXxM7He"
      },
      "source": [
        "# Cria um dicionário em Python\n",
        "dados = {\n",
        "\t'macas': \t\t[3, 2, 0, 1],\n",
        "\t'laranjas':\t[0, 3, 7, 2]\n",
        "}\n",
        "\n",
        "# Cria um DataFrame a partir do dicionário\n",
        "comprasDf = pd.DataFrame(dados)\n",
        "\n",
        "# Mostra o DataFrame\n",
        "display(comprasDf)"
      ],
      "execution_count": null,
      "outputs": []
    },
    {
      "cell_type": "markdown",
      "metadata": {
        "id": "qQi5Dc1hzKjU"
      },
      "source": [
        "![Pandas - DataFrame](https://docs.google.com/uc?export=download&id=1kbdy0HzfDg2BWoQKL9-xZS8NFAM9QDpy)"
      ]
    },
    {
      "cell_type": "markdown",
      "metadata": {
        "id": "kTNsz2kd0oww"
      },
      "source": [
        "#### Alterando os índices do `DataFrame`"
      ]
    },
    {
      "cell_type": "code",
      "metadata": {
        "id": "XSyPZmuO01av"
      },
      "source": [
        "# Substitui índices numéricos criados automaticamente pela lista de nomes de clientes\n",
        "comprasDf = pd.DataFrame(dados, index=['Lucas', 'Paulo', 'Ana', 'Maria'])\n",
        "\n",
        "# Mostra o DataFrame\n",
        "display(comprasDf)"
      ],
      "execution_count": null,
      "outputs": []
    },
    {
      "cell_type": "markdown",
      "metadata": {
        "id": "m4gNtG8M5pni"
      },
      "source": [
        "#### Coletando informações gerais sobre o `DataFrame`"
      ]
    },
    {
      "cell_type": "code",
      "metadata": {
        "id": "EXwvUdnB5pyT"
      },
      "source": [
        "#Linhas x Colunas\n",
        "comprasDf.shape"
      ],
      "execution_count": null,
      "outputs": []
    },
    {
      "cell_type": "code",
      "metadata": {
        "id": "DRmE1lnh5zsu"
      },
      "source": [
        "#Índices/linhas\n",
        "comprasDf.index"
      ],
      "execution_count": null,
      "outputs": []
    },
    {
      "cell_type": "code",
      "metadata": {
        "id": "iV1ME6q75zyi"
      },
      "source": [
        "#Colunas\n",
        "comprasDf.columns"
      ],
      "execution_count": null,
      "outputs": []
    },
    {
      "cell_type": "code",
      "metadata": {
        "id": "n5tiAr6m5z48"
      },
      "source": [
        "#Quantidade de itens por coluna\n",
        "comprasDf.count()"
      ],
      "execution_count": null,
      "outputs": []
    },
    {
      "cell_type": "markdown",
      "metadata": {
        "id": "AFiRweAl1Wmz"
      },
      "source": [
        "#### Localizando itens pelo índice\n"
      ]
    },
    {
      "cell_type": "code",
      "metadata": {
        "id": "lPjhfMZh1dbm"
      },
      "source": [
        "# Obtém pedido do cliente Lucas\n",
        "comprasDf.loc[\"Lucas\"]"
      ],
      "execution_count": null,
      "outputs": []
    },
    {
      "cell_type": "markdown",
      "metadata": {
        "id": "TpH6lh6Q150E"
      },
      "source": [
        "#### Contando elementos em um `DataFrame` ou `Series`"
      ]
    },
    {
      "cell_type": "code",
      "metadata": {
        "id": "sDSx6ecy2BMR"
      },
      "source": [
        "# Conta quantidade de índices (clientes) no DataFrame\n",
        "print(len(comprasDf))\n",
        "# Conta quantidade de itens na Serie criada nas celulas anteriores\n",
        "print(len(s1))"
      ],
      "execution_count": null,
      "outputs": []
    },
    {
      "cell_type": "markdown",
      "metadata": {
        "id": "hd4HbCVr2jkZ"
      },
      "source": [
        "#### Aplicando funções matemáticas a um `DataFrame` ou `Series`\n"
      ]
    },
    {
      "cell_type": "code",
      "metadata": {
        "id": "hu0AeS6E2jsy"
      },
      "source": [
        "# Calcula média dos valores de pedido do cliente Paulo\n",
        "comprasDf.loc[\"Paulo\"].mean()"
      ],
      "execution_count": null,
      "outputs": []
    },
    {
      "cell_type": "code",
      "metadata": {
        "id": "8_Fpqzx_4QHo"
      },
      "source": [
        "#Somatório das vendas de laranja (i.e., série criada nas celulas anteriores)\n",
        "s2.sum()"
      ],
      "execution_count": null,
      "outputs": []
    },
    {
      "cell_type": "code",
      "metadata": {
        "id": "SVRG_VB-4XTe"
      },
      "source": [
        "#Maior valor para cada coluna\n",
        "comprasDf.max()"
      ],
      "execution_count": null,
      "outputs": []
    },
    {
      "cell_type": "code",
      "metadata": {
        "id": "xOBfEO2f4QSm"
      },
      "source": [
        "#Menor valor para cada coluna\n",
        "comprasDf.min()"
      ],
      "execution_count": null,
      "outputs": []
    },
    {
      "cell_type": "code",
      "metadata": {
        "id": "1ldidC8_4Qe_"
      },
      "source": [
        "#Resumo estatístico do DataFrame\n",
        "comprasDf.describe()"
      ],
      "execution_count": null,
      "outputs": []
    },
    {
      "cell_type": "code",
      "metadata": {
        "id": "cw6bviHR4QdG"
      },
      "source": [
        "#Valores médios para cada coluna\n",
        "comprasDf.mean()"
      ],
      "execution_count": null,
      "outputs": []
    },
    {
      "cell_type": "code",
      "metadata": {
        "id": "KKasRqRM4QcQ"
      },
      "source": [
        "#Medianas para cada coluna\n",
        "comprasDf.median()"
      ],
      "execution_count": null,
      "outputs": []
    },
    {
      "cell_type": "markdown",
      "metadata": {
        "id": "mmOLDfI5GocL"
      },
      "source": [
        "#### Exportar dados de `DataFrames` para arquivos"
      ]
    },
    {
      "cell_type": "code",
      "metadata": {
        "id": "nzd-NOQdGxSw"
      },
      "source": [
        "# Exporta para arquivo CSV - compatível com Microsoft Excel\n",
        "comprasDf.to_csv('compras.csv')"
      ],
      "execution_count": null,
      "outputs": []
    },
    {
      "cell_type": "code",
      "metadata": {
        "id": "f1dpABPCG_YW"
      },
      "source": [
        "# Exporta para arquivo JSON\n",
        "comprasDf.to_csv('compras.json')"
      ],
      "execution_count": null,
      "outputs": []
    },
    {
      "cell_type": "markdown",
      "metadata": {
        "id": "3RCwLz4HHRz1"
      },
      "source": [
        "#### Importar dados de arquivos para `DataFrames`"
      ]
    },
    {
      "cell_type": "code",
      "metadata": {
        "id": "-d5qecUrHR8G"
      },
      "source": [
        "# Importa de arquivo CSV\n",
        "csvDf = pd.read_csv('compras.csv')\n",
        "display(csvDf)"
      ],
      "execution_count": null,
      "outputs": []
    },
    {
      "cell_type": "code",
      "metadata": {
        "id": "YbqjrfTfH_Mo"
      },
      "source": [
        "# Importa de arquivo CSV - CSVs não têm índices como os DataFrames, então devemos designar o index_col ao ler\n",
        "csvDf = pd.read_csv('compras.csv', index_col=0)\n",
        "display(csvDf)"
      ],
      "execution_count": null,
      "outputs": []
    },
    {
      "cell_type": "markdown",
      "metadata": {
        "id": "DbnoWvD1bdOs"
      },
      "source": [
        "### Pandas - **Exemplo prático 2**\n",
        "Nós iremos utilizar a base de dados do IMDB, um dos maiores repositórios de informações sobre filmes existentes. Esta base contém dados de 1.000 filmes entre 2006 e 2016.\n",
        "A ideia é utilizar as funcionalidades do Pandas e das demais bibliotecas de visualização para analisar os dados."
      ]
    },
    {
      "cell_type": "code",
      "metadata": {
        "id": "B97XnaGo0zkT"
      },
      "source": [
        "# Efetua download das databases necessárias\n",
        "import os\n",
        "# Verifica se o arquivo já existe na instância atual.  Se não, faz download do github\n",
        "if not os.path.exists('nlp-class-resources/imdb-data/IMDB-Movie-Data.csv'):\n",
        "    print(\"Diretório ainda não existe!\")\n",
        "    print(\"Obtendo dados do github...\")\n",
        "\n",
        "    !git clone https://github.com/kunkaweb/nlp-class-resources.git\n",
        "\n",
        "print('O diretório baixado contém:\\n',os.listdir('nlp-class-resources/imdb-data'))"
      ],
      "execution_count": null,
      "outputs": []
    },
    {
      "cell_type": "code",
      "metadata": {
        "id": "3P0Y4PwK1bwj"
      },
      "source": [
        "# Importa arquivo CSV para um DataFrame\n",
        "# Estamos carregando esse conjunto de dados de um CSV e designando os títulos dos filmes como nosso índice\n",
        "movies_df = pd.read_csv(\"nlp-class-resources/imdb-data/IMDB-Movie-Data.csv\", index_col=\"Title\")"
      ],
      "execution_count": null,
      "outputs": []
    },
    {
      "cell_type": "markdown",
      "metadata": {
        "id": "1mUXpEAK11YQ"
      },
      "source": [
        "#### Referência visual da base de dados"
      ]
    },
    {
      "cell_type": "code",
      "metadata": {
        "id": "wZ3folQ619Qz"
      },
      "source": [
        "# Mostra as 5 primeiras linhas\n",
        "movies_df.head()"
      ],
      "execution_count": null,
      "outputs": []
    },
    {
      "cell_type": "code",
      "metadata": {
        "id": "terrr7zR2HlG"
      },
      "source": [
        "# Mostra as 5 ultimas linhas\n",
        "movies_df.tail()"
      ],
      "execution_count": null,
      "outputs": []
    },
    {
      "cell_type": "markdown",
      "metadata": {
        "id": "BcA8y3hS2od5"
      },
      "source": [
        "#### Alterando nome de colunas"
      ]
    },
    {
      "cell_type": "code",
      "metadata": {
        "id": "7RlbA3jN2onf"
      },
      "source": [
        "# Mostra os nomes atuais\n",
        "movies_df.columns"
      ],
      "execution_count": null,
      "outputs": []
    },
    {
      "cell_type": "code",
      "metadata": {
        "id": "4rk8nGxj2xUZ"
      },
      "source": [
        "movies_df.rename(columns={\n",
        "  'Runtime (Minutes)': 'Runtime',\n",
        "  'Revenue (Millions)': 'Revenue_millions'\n",
        "}, inplace=True)\n",
        "\n",
        "movies_df.columns"
      ],
      "execution_count": null,
      "outputs": []
    },
    {
      "cell_type": "markdown",
      "metadata": {
        "id": "LO5TR-OF39eI"
      },
      "source": [
        "#### Verificando e tratando dados nulos\n",
        "Como lidar com valores nulos (não-existentes)?\n",
        "\n",
        "1.   Apagar linhas ou colunas com valores nulos\n",
        "2.   Substituir valores nulos por não-nulos\n",
        "\n"
      ]
    },
    {
      "cell_type": "code",
      "metadata": {
        "id": "iErVrA5h4U9F"
      },
      "source": [
        "# Mostra quais células do DataFrame são nulas\n",
        "# Observe que isnull() retorna um DataFrame em que cada célula é True ou False, dependendo do status da célula\n",
        "movies_df.isnull()"
      ],
      "execution_count": null,
      "outputs": []
    },
    {
      "cell_type": "code",
      "metadata": {
        "id": "XZHQMBeD4yk8"
      },
      "source": [
        "# Conta o número de nulos em cada coluna\n",
        "movies_df.isnull().sum()"
      ],
      "execution_count": null,
      "outputs": []
    },
    {
      "cell_type": "markdown",
      "metadata": {
        "id": "-ZNED8K158aU"
      },
      "source": [
        "##### Opção 1 - Removendo nulos"
      ]
    },
    {
      "cell_type": "code",
      "metadata": {
        "id": "Ps6Af9Fy5BfX"
      },
      "source": [
        "# Cria um novo DataFrame sem as linhas que contém valores nulos\n",
        "new_df = movies_df.dropna()\n",
        "new_df.shape"
      ],
      "execution_count": null,
      "outputs": []
    },
    {
      "cell_type": "code",
      "metadata": {
        "id": "cikHVkl_5YWW"
      },
      "source": [
        "# Perceba que o DataFrame original não é alterado\n",
        "movies_df.shape"
      ],
      "execution_count": null,
      "outputs": []
    },
    {
      "cell_type": "code",
      "metadata": {
        "id": "Cd-9ybOP5izK"
      },
      "source": [
        "# Neste caso as colunas que contiverem valores nulos serão descartadas\n",
        "new_df = movies_df.dropna(axis=1)\n",
        "new_df.shape"
      ],
      "execution_count": null,
      "outputs": []
    },
    {
      "cell_type": "markdown",
      "metadata": {
        "id": "V-9omhss6CNI"
      },
      "source": [
        "##### Opção 2 - Substituindo nulos"
      ]
    },
    {
      "cell_type": "code",
      "metadata": {
        "id": "806bm0ce6Fqk"
      },
      "source": [
        "# Extrai a coluna \"revenue_millions\" - teremos uma Series na variável revenue\n",
        "revenue = movies_df['Revenue_millions']\n",
        "revenue.head()"
      ],
      "execution_count": null,
      "outputs": []
    },
    {
      "cell_type": "code",
      "metadata": {
        "id": "Dclvun7V6lWl"
      },
      "source": [
        "# Obtém a média de revenue\n",
        "revenue_mean = revenue.mean()\n",
        "revenue_mean"
      ],
      "execution_count": null,
      "outputs": []
    },
    {
      "cell_type": "code",
      "metadata": {
        "id": "nS6D2qil6x_R"
      },
      "source": [
        "# A função fillna preencherá todos valores nulos com a valor da média que calculamos\n",
        "# A parâmetro inplace=True define que as alterações também serão feitas no DataFrame original de onde tiramos esta Series\n",
        "revenue.fillna(revenue_mean, inplace=True)"
      ],
      "execution_count": null,
      "outputs": []
    },
    {
      "cell_type": "code",
      "metadata": {
        "id": "z8JyL9CS7GS5"
      },
      "source": [
        "# Não há mais valores nulos na coluna Revenue_millions\n",
        "movies_df.isnull().sum()"
      ],
      "execution_count": null,
      "outputs": []
    },
    {
      "cell_type": "markdown",
      "metadata": {
        "id": "QdyIyMzy7V73"
      },
      "source": [
        "#### Entendendo os dados"
      ]
    },
    {
      "cell_type": "code",
      "metadata": {
        "id": "P3MDm-oG7cC8"
      },
      "source": [
        "# Resumo de distribuição do DataFrame\n",
        "movies_df.describe()"
      ],
      "execution_count": null,
      "outputs": []
    },
    {
      "cell_type": "code",
      "metadata": {
        "id": "sPjYqooy7hEj"
      },
      "source": [
        "# Resumo da coluna genre\n",
        "# Mostra que a coluna de gênero tem 207 valores únicos, o valor mais alto é “Ação/ Aventura/Ficção Científica”, que aparece 50 vezes (frequência)\n",
        "movies_df['Genre'].describe()"
      ],
      "execution_count": null,
      "outputs": []
    },
    {
      "cell_type": "code",
      "metadata": {
        "id": "uDIKX39w77FF"
      },
      "source": [
        "# Mostra a frequência de todos valores\n",
        "movies_df['Genre'].value_counts().head(10)"
      ],
      "execution_count": null,
      "outputs": []
    },
    {
      "cell_type": "code",
      "metadata": {
        "id": "NqJnGB1J8HDA"
      },
      "source": [
        "# Mostra o índice de correlação entre colunas\n",
        "\n",
        "# Seleciona apenas as tabelas numéricas para o cálculo\n",
        "numerical_df = movies_df.select_dtypes(include=['number'])\n",
        "correlation_matrix = numerical_df.corr()\n",
        "print(correlation_matrix)"
      ],
      "execution_count": null,
      "outputs": []
    },
    {
      "cell_type": "markdown",
      "metadata": {
        "id": "Xvn7fcjZ8RuJ"
      },
      "source": [
        "*   As tabelas de correlação são uma representação numérica dos relacionamentos entre duas variáveis no dataset\n",
        "*   A amplitude do índice de correlação é de -1 até +1\n",
        "*   Números positivos indicam uma correlação positiva e números negativos representam uma correlação negativa. Quando o índice = 1.0 indica uma correlação perfeita\n",
        "*  Observando o resultado,  vê-se que a correlação entre “votes” e “revenue_millions” é de 0.6\n"
      ]
    },
    {
      "cell_type": "markdown",
      "metadata": {
        "id": "tD9JSEd0-yA5"
      },
      "source": [
        "#### Extraindo colunas do DataFrame"
      ]
    },
    {
      "cell_type": "code",
      "metadata": {
        "id": "SS9BXE_v-yUg"
      },
      "source": [
        "subset = movies_df[['Genre', 'Rating']]\n",
        "subset.head()"
      ],
      "execution_count": null,
      "outputs": []
    },
    {
      "cell_type": "markdown",
      "metadata": {
        "id": "4XTCsoA5-9t7"
      },
      "source": [
        "#### Extraindo linhas do DataFrame\n"
      ]
    },
    {
      "cell_type": "code",
      "metadata": {
        "id": "0jh_80Fv-92H"
      },
      "source": [
        "# Localiza pelo índice principal (nesse caso o título)\n",
        "prom = movies_df.loc[\"Prometheus\"]\n",
        "prom"
      ],
      "execution_count": null,
      "outputs": []
    },
    {
      "cell_type": "code",
      "metadata": {
        "id": "Oq5HhCqP_Rc1"
      },
      "source": [
        "#Localiza pelo índice numérico\n",
        "prom = movies_df.iloc[1]\n",
        "prom"
      ],
      "execution_count": null,
      "outputs": []
    },
    {
      "cell_type": "code",
      "metadata": {
        "id": "BLmwZj1G_fXU"
      },
      "source": [
        "# Obtém todas linhas de Prometheus até Sing\n",
        "movie_subset = movies_df.loc['Prometheus':'Sing']\n",
        "movie_subset"
      ],
      "execution_count": null,
      "outputs": []
    },
    {
      "cell_type": "code",
      "metadata": {
        "id": "X1XLvhKf_nwp"
      },
      "source": [
        "# Mesma coisa porém com o índice numérico\n",
        "movie_subset = movies_df.iloc[1:4]\n",
        "movie_subset"
      ],
      "execution_count": null,
      "outputs": []
    },
    {
      "cell_type": "markdown",
      "metadata": {
        "id": "e4xDnTvy_xHY"
      },
      "source": [
        "#### Seleção de dados condicionalmente"
      ]
    },
    {
      "cell_type": "code",
      "metadata": {
        "id": "bLvl3frk_0B2"
      },
      "source": [
        "# Todos filmes dirigidos por Ridley Scott serão atribuidos True na Series retornada\n",
        "condition = (movies_df['Director'] == \"Ridley Scott\")\n",
        "condition.head()"
      ],
      "execution_count": null,
      "outputs": []
    },
    {
      "cell_type": "code",
      "metadata": {
        "id": "cubBXQLHAOQ6"
      },
      "source": [
        "# Filtra os filmes NÃO dirigidos pelo diretor\n",
        "movies_df[movies_df['Director'] != \"Ridley Scott\"]"
      ],
      "execution_count": null,
      "outputs": []
    },
    {
      "cell_type": "code",
      "metadata": {
        "id": "GXWYb33EAawc"
      },
      "source": [
        "# Filtra filmes com nota maior que 8.8\n",
        "movies_df[movies_df['Rating'] >= 8.8]"
      ],
      "execution_count": null,
      "outputs": []
    },
    {
      "cell_type": "code",
      "metadata": {
        "id": "2zSDumarA4j3"
      },
      "source": [
        "# Filmes dirigidos por Christopher Nolan ou Ridley Scott\n",
        "movies_df[(movies_df['Director'] == 'Christopher Nolan') | (movies_df['Director'] == 'Ridley Scott')]\n"
      ],
      "execution_count": null,
      "outputs": []
    },
    {
      "cell_type": "code",
      "metadata": {
        "id": "hM3Ym-O1BMpx"
      },
      "source": [
        "# Filtrar todos os filmes que foram lançados entre 2005 e 2010 e tenham uma classificação acima de 8.0, mas tenham receita abaixo do 25º percentil\n",
        "movies_df[ ((movies_df['Year'] >= 2005) & (movies_df['Year'] <= 2010))\n",
        "& (movies_df['Rating'] > 8.0)\n",
        "& (movies_df['Revenue_millions'] < movies_df['Revenue_millions'].quantile(0.25))\n",
        "]\n"
      ],
      "execution_count": null,
      "outputs": []
    },
    {
      "cell_type": "markdown",
      "metadata": {
        "id": "Ui6iy41YBe2D"
      },
      "source": [
        "#### Aplicando funções no DataFrame"
      ]
    },
    {
      "cell_type": "code",
      "metadata": {
        "id": "K3Y5Ye6hBiEp"
      },
      "source": [
        "def rating_function(x):\n",
        "  if x >= 8.0:\n",
        "    return \"bom\"\n",
        "  else:\n",
        "    return \"ruim\"\n",
        "\n",
        "# Método passa todos os valores da coluna de “rating” pela “rating_function”\n",
        "movies_df[\"Rating_category\"] = movies_df[\"Rating\"].apply(rating_function)\n",
        "movies_df.head()\n"
      ],
      "execution_count": null,
      "outputs": []
    },
    {
      "cell_type": "markdown",
      "metadata": {
        "id": "Wgjcy1BUKbDJ"
      },
      "source": [
        "#### Ordenando dados"
      ]
    },
    {
      "cell_type": "code",
      "metadata": {
        "id": "ihTHN1zHKUeS"
      },
      "source": [
        "# Ordena pelo revenue de maneira descendente\n",
        "print(movies_df['Revenue_millions'].sort_values(ascending=False).head(20))"
      ],
      "execution_count": null,
      "outputs": []
    },
    {
      "cell_type": "code",
      "metadata": {
        "id": "YUiRK25kMfRR"
      },
      "source": [
        "# Obtém os filmes mais curtos\n",
        "movies_df.sort_values('Runtime').head()"
      ],
      "execution_count": null,
      "outputs": []
    },
    {
      "cell_type": "markdown",
      "metadata": {
        "id": "rf7pVruWCBT4"
      },
      "source": [
        "## Matplotlib & Seaborn - Plotagem de gráficos\n",
        "Continuaremos a trabalhar com os dados do IMDB, porém agora pensando em como plotar gráficos. As duas bibliotecas tem funções bem similares, fica a seu critério decidir qual usar.\n",
        "\n",
        "*   Quando usarmos a variável \"plt\" --> matplotlib\n",
        "*   Quando usarmos a variável \"sns\" --> seaborn\n",
        "\n",
        "Dicas:\n",
        "\n",
        "*   Dica 1: Para variáveis nominais (categorias), use Bar Charts e Boxplots\n",
        "*   Dica 2: Para variáveis contínuas, utilize Histogramas, Scatterplots, gráficos de linhas e boxplots\n",
        "\n",
        "\n"
      ]
    },
    {
      "cell_type": "code",
      "metadata": {
        "id": "ch_Nxav2DDoz"
      },
      "source": [
        "# Importa biblioteca matplotlib\n",
        "import matplotlib.pyplot as plt\n",
        "# Atualiza tamanho padrão dos gráficos\n",
        "plt.rcParams.update({'font.size': 20, 'figure.figsize': (10, 8)})"
      ],
      "execution_count": null,
      "outputs": []
    },
    {
      "cell_type": "code",
      "metadata": {
        "id": "SLW7sliFDa57"
      },
      "source": [
        "# Relação entre Revenue_millions e Rating\n",
        "movies_df.plot(kind='scatter', x='Rating', y='Revenue_millions', title='Revenue (millions) vs Rating');"
      ],
      "execution_count": null,
      "outputs": []
    },
    {
      "cell_type": "code",
      "metadata": {
        "id": "xrK-KkhrD5u9"
      },
      "source": [
        "# Histograma de uma única coluna\n",
        "movies_df['Rating'].plot(kind='hist', title='Rating');"
      ],
      "execution_count": null,
      "outputs": []
    },
    {
      "cell_type": "code",
      "metadata": {
        "id": "0ifsGNeMJt0i"
      },
      "source": [
        "# Histograma usando Seaborn\n",
        "sns.countplot(x='Year', data=movies_df)\n",
        "plt.title('Year')\n",
        "plt.show()"
      ],
      "execution_count": null,
      "outputs": []
    },
    {
      "cell_type": "code",
      "metadata": {
        "id": "foZXheaMNJWO"
      },
      "source": [
        "# Histograma de duração - bins define a quantidade de intervalos que vc deseja mostrar\n",
        "movies_df.Runtime.plot(kind='hist', bins=20)"
      ],
      "execution_count": null,
      "outputs": []
    },
    {
      "cell_type": "code",
      "metadata": {
        "id": "xODMHxAwNtEE"
      },
      "source": [
        "#Gráfico que mostra quantos filmes estão em cada gênero - Top 10\n",
        "movies_df.Genre.value_counts().head(10).plot(kind='bar', title='Top 10 Movies Genres')\n",
        "plt.xlabel('Genre')\n",
        "plt.ylabel('Number of Movies')"
      ],
      "execution_count": null,
      "outputs": []
    },
    {
      "cell_type": "code",
      "metadata": {
        "id": "2xXqdl3MO_E8"
      },
      "source": [
        "# Ganhos de Ridley Scott durante os anos\n",
        "movies_df[movies_df['Director'] == \"Ridley Scott\"].sort_values(\"Year\").plot(kind='line',x='Year',y='Revenue_millions',style='.-')"
      ],
      "execution_count": null,
      "outputs": []
    },
    {
      "cell_type": "markdown",
      "metadata": {
        "id": "dnz9UXlqE5sY"
      },
      "source": [
        "![Quartis](https://docs.google.com/uc?export=download&id=1FxT3JZPo2cYEWuXNHd8u8wFqkoAB2CLn)"
      ]
    },
    {
      "cell_type": "code",
      "metadata": {
        "id": "Nc2YXz6LFOW8"
      },
      "source": [
        "movies_df['Rating'].plot(kind=\"box\");"
      ],
      "execution_count": null,
      "outputs": []
    },
    {
      "cell_type": "markdown",
      "metadata": {
        "id": "SyhBkbfJJuyj"
      },
      "source": [
        "## **ATIVIDADE PRÁTICA**\n",
        "Utilizaremos dados de pacientes fictícios de um hospital. O objetivo é fixar os conceitos desenvolvidos durante a aula e se ambientar com o uso do Google Colab e ferramentas que utilizaremos no decorrer da disciplina."
      ]
    },
    {
      "cell_type": "markdown",
      "metadata": {
        "id": "8cCiVy0USAQw"
      },
      "source": [
        "### 1) Obtenha a base de dados do link abaixo e deixe-a disponível no Google Colab (via github, botão de upload ou google drive)\n",
        "https://github.com/kunkaweb/nlp-class-resources/blob/master/hospital-data/patients.csv"
      ]
    },
    {
      "cell_type": "code",
      "metadata": {
        "id": "Jk2QjGpySiIZ"
      },
      "source": [
        "# Insira seu código aqui"
      ],
      "execution_count": null,
      "outputs": []
    },
    {
      "cell_type": "markdown",
      "metadata": {
        "id": "x7LKcSqaSlJi"
      },
      "source": [
        "### 2) Abra o arquivo CSV e carregue-o em um `DataFrame` do pandas"
      ]
    },
    {
      "cell_type": "code",
      "metadata": {
        "id": "Dtq7YglXSuFu"
      },
      "source": [
        "# Insira seu código aqui"
      ],
      "execution_count": null,
      "outputs": []
    },
    {
      "cell_type": "markdown",
      "metadata": {
        "id": "at0Adn8OyeXC"
      },
      "source": [
        "###3) Qual o tamanho da base de dados? (Quantidade de linhas e colunas)"
      ]
    },
    {
      "cell_type": "code",
      "metadata": {
        "id": "Za-q__-4yukV"
      },
      "source": [
        "# Insira seu código aqui"
      ],
      "execution_count": null,
      "outputs": []
    },
    {
      "cell_type": "markdown",
      "metadata": {
        "id": "oL5KLfOby1uE"
      },
      "source": [
        "###4) Mostre a quantidade de pacientes por gênero e depois plote um histograma"
      ]
    },
    {
      "cell_type": "code",
      "metadata": {
        "id": "k3g532PG3Tcp"
      },
      "source": [],
      "execution_count": null,
      "outputs": []
    },
    {
      "cell_type": "markdown",
      "metadata": {
        "id": "WAho_Bjt3UwK"
      },
      "source": [
        "### 5) Crie uma nova coluna no `DataFrame` que diga se o paciente é \"nativo\" ou \"estrageiro\" - caso `ethnicity` seja igual a \"american\" ele é nativo."
      ]
    },
    {
      "cell_type": "code",
      "metadata": {
        "id": "GbmOCPo445BH"
      },
      "source": [],
      "execution_count": null,
      "outputs": []
    },
    {
      "cell_type": "markdown",
      "metadata": {
        "id": "gvBsq49N471g"
      },
      "source": [
        "### 6) Mostre quantos pacientes de cada raça existem. Depois plote isso em um gráfico de barras."
      ]
    },
    {
      "cell_type": "code",
      "metadata": {
        "id": "yiWZCFGM5ewr"
      },
      "source": [],
      "execution_count": null,
      "outputs": []
    },
    {
      "cell_type": "markdown",
      "metadata": {
        "id": "jaDearpb5q4R"
      },
      "source": [
        "### 7) Mostre a quantidade de valores nulos para cada coluna."
      ]
    },
    {
      "cell_type": "code",
      "metadata": {
        "id": "mRSXBaho5vbU"
      },
      "source": [],
      "execution_count": null,
      "outputs": []
    },
    {
      "cell_type": "markdown",
      "metadata": {
        "id": "6mBQWwSY596U"
      },
      "source": [
        "### 8) Qual a etnia (`ethnicity`) que mais teve diagnóstico de uso de opióides?\n",
        "O paciente fez uso de opióide caso a coluna `prior_opioid_abuse_diag` tenha valor igual a 1."
      ]
    },
    {
      "cell_type": "code",
      "metadata": {
        "id": "E0gxLc1r6Wxp"
      },
      "source": [],
      "execution_count": null,
      "outputs": []
    },
    {
      "cell_type": "markdown",
      "metadata": {
        "id": "Vz6s8APq9JDP"
      },
      "source": [
        "### 9) Mostre o índice de correlação entre as colunas"
      ]
    },
    {
      "cell_type": "code",
      "metadata": {
        "id": "pGWIxYc39O7y"
      },
      "source": [],
      "execution_count": null,
      "outputs": []
    },
    {
      "cell_type": "markdown",
      "metadata": {
        "id": "hGWpSxDK91kE"
      },
      "source": [
        "### 10) Remova as colunas: 'maiden','passport','drivers','prefix','suffix','ssn','first','last'"
      ]
    },
    {
      "cell_type": "code",
      "metadata": {
        "id": "vdvc7oHB96bp"
      },
      "source": [],
      "execution_count": null,
      "outputs": []
    },
    {
      "cell_type": "markdown",
      "metadata": {
        "id": "JXJTjCLI-H9_"
      },
      "source": [
        "### 11) Altere o nome das colunas restantes para português"
      ]
    },
    {
      "cell_type": "code",
      "metadata": {
        "id": "5QHnomOE-W2N"
      },
      "source": [],
      "execution_count": null,
      "outputs": []
    },
    {
      "cell_type": "markdown",
      "metadata": {
        "id": "on0xckUw-YLS"
      },
      "source": [
        "### 12) Exporte um arquivo CSV com as alterações feitas"
      ]
    },
    {
      "cell_type": "code",
      "metadata": {
        "id": "tmqQyehe-d0o"
      },
      "source": [],
      "execution_count": null,
      "outputs": []
    },
    {
      "cell_type": "markdown",
      "metadata": {
        "id": "k9iiQb6EY_SM"
      },
      "source": [
        "## Referências & Material complementar\n",
        "\n",
        "\n",
        "*   [28 useful pandas functions](https://paulovasconcellos.com.br/28-useful-pandas-functions-you-might-not-know-de42c59db085)\n",
        "*   [Seus primeiros passos como Data Scientist: Introdução ao Pandas!](https://medium.com/data-hackers/uma-introdu%C3%A7%C3%A3o-simples-ao-pandas-1e15eea37fa1)\n",
        "*   [Python Pandas Tutorial: A Complete Introduction for Beginners](https://www.learndatasci.com/tutorials/python-pandas-tutorial-complete-introduction-for-beginners/)\n",
        "*   [Python Numpy Tutorial (with Jupyter and Colab)](https://cs231n.github.io/python-numpy-tutorial/)\n",
        "*   [7 pandas functions that I use the most](https://towardsdatascience.com/7-pandas-functions-that-i-use-the-most-b83ddbaf53bf)\n",
        "\n"
      ]
    },
    {
      "cell_type": "markdown",
      "metadata": {
        "id": "bS67JntYq3dD"
      },
      "source": [
        "Este notebook foi produzido por Prof. [Lucas Oliveira](http://lattes.cnpq.br/3611246009892500)."
      ]
    }
  ]
}